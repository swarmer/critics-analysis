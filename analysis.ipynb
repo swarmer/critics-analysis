{
 "cells": [
  {
   "cell_type": "markdown",
   "metadata": {},
   "source": [
    "# Preparation"
   ]
  },
  {
   "cell_type": "code",
   "execution_count": 2,
   "metadata": {},
   "outputs": [],
   "source": [
    "import pandas as pd\n",
    "import numpy as np\n",
    "import msgpack"
   ]
  },
  {
   "cell_type": "code",
   "execution_count": 107,
   "metadata": {},
   "outputs": [],
   "source": [
    "with open('reviewers.msgpack', 'rb') as reviewers_file:\n",
    "    reviewers_data = msgpack.load(reviewers_file)\n",
    "    \n",
    "with open('reviews.msgpack', 'rb') as reviews_file:\n",
    "    reviews_data = msgpack.load(reviews_file)"
   ]
  },
  {
   "cell_type": "code",
   "execution_count": 108,
   "metadata": {},
   "outputs": [],
   "source": [
    "reviewers_data.append({\n",
    "    b'is_publication': False,\n",
    "    b'key': b'swarmer',\n",
    "    b'name': b'Anton Barkovsky',\n",
    "    b'publication_link': None,\n",
    "    b'publication_title': None,\n",
    "})\n",
    "\n",
    "my_reviews = {\n",
    "    'blade-runner-2049': 100,\n",
    "    'baby-driver': 85,\n",
    "    'dunkirk': 80,\n",
    "    'loveless-2017': 95,\n",
    "    'kiss-kiss-bang-bang': 80,\n",
    "    'zero-dark-thirty': 85,\n",
    "    'sicario': 100,\n",
    "    'rogue-one': 90,\n",
    "    'the-prestige': 90,\n",
    "    'the-martian': 90,\n",
    "    'the-big-lebowski': 90,\n",
    "    'gran-torino': 90,\n",
    "    'citizenfour': 90,\n",
    "    'snowden': 80,\n",
    "    'arrival': 80,\n",
    "    'mulholland-dr': 80,\n",
    "    'the-danish-girl': 70,\n",
    "    'the-theory-of-everything': 80,\n",
    "    'the-big-short': 90,\n",
    "    'edge-of-tomorrow': 80,\n",
    "    'carol': 90,\n",
    "    'drive': 85,\n",
    "    'warcraft': 80,\n",
    "    'a-clockwork-orange': 80,\n",
    "    'the-hateful-eight': 80,\n",
    "    'apocalypse-now': 90,\n",
    "    'the-descendants': 80,\n",
    "    'the-social-network': 85,\n",
    "    'star-wars-episode-vii---the-force-awakens': 80,\n",
    "    'the-best-offer': 70,\n",
    "    'in-the-loop': 80,\n",
    "    'fight-club': 80,\n",
    "    'batman-begins': 80,\n",
    "    'the-fault-in-our-stars': 80,\n",
    "    'the-spectacular-now': 70,\n",
    "    'children-of-men': 90,\n",
    "    'ex-machina': 90,\n",
    "    'the-kings-speech': 90,\n",
    "    'the-imitation-game': 80,\n",
    "    'what-we-do-in-the-shadows': 80,\n",
    "    'up-in-the-air': 70,\n",
    "    'argo': 90,\n",
    "    'interstellar': 85,\n",
    "    'guardians-of-the-galaxy': 70,\n",
    "    'inglourious-basterds': 80,\n",
    "    'the-avengers-2012': 70,\n",
    "    'serenity': 80,\n",
    "    '5050': 70,\n",
    "    'hot-fuzz': 90,\n",
    "    'her': 90,\n",
    "    'moon': 90,\n",
    "    'about-time': 80,\n",
    "    'the-hurt-locker': 100,\n",
    "    'silver-linings-playbook': 80,\n",
    "    'the-hunger-games-catching-fire': 80,\n",
    "    'american-hustle': 70,\n",
    "    'the-wolf-of-wall-street': 80,\n",
    "    'dr-strangelove-or-how-i-learned-to-stop-worrying-and-love-the-bomb': 100,\n",
    "    'blade-runner': 85,\n",
    "    'the-perks-of-being-a-wallflower': 80,\n",
    "    'the-lives-of-others': 100,\n",
    "    'its-a-wonderful-life': 90,\n",
    "    'the-dark-knight': 90,\n",
    "    'pulp-fiction': 90,\n",
    "    'star-wars-episode-iv---a-new-hope': 80,\n",
    "    'the-godfather': 90,\n",
    "    'inception': 100,\n",
    "    'forrest-gump': 90,\n",
    "    'star-wars-episode-vi---return-of-the-jedi': 80,\n",
    "    'the-lord-of-the-rings-the-fellowship-of-the-ring': 70,\n",
    "    'pirates-of-the-caribbean-the-curse-of-the-black-pearl': 80,\n",
    "    'the-matrix': 90,\n",
    "    'star-wars-episode-v---the-empire-strikes-back': 80,\n",
    "    'gladiator': 100,\n",
    "    'the-godfather-part-ii': 90,\n",
    "    'black-swan': 80,\n",
    "    'the-lord-of-the-rings-the-return-of-the-king': 70,\n",
    "    'eternal-sunshine-of-the-spotless-mind': 80,\n",
    "    'the-good-the-bad-and-the-ugly-re-release': 90,\n",
    "    'the-lord-of-the-rings-the-two-towers': 70,\n",
    "    'amelie': 90,\n",
    "}\n",
    "reviews_data.extend([\n",
    "    {\n",
    "        b'date': None,\n",
    "        b'film': key.encode('utf-8'),\n",
    "        b'movie_link': None,\n",
    "        b'movie_title': None,\n",
    "        b'pub_title': None,\n",
    "        b'review_link': None,\n",
    "        b'reviewer': b'swarmer',\n",
    "        b'score': str(score).encode('utf-8'),\n",
    "    }\n",
    "    for key, score in my_reviews.items()\n",
    "])"
   ]
  },
  {
   "cell_type": "code",
   "execution_count": 113,
   "metadata": {},
   "outputs": [],
   "source": [
    "reviewers = sorted(set(\n",
    "    reviewer[b'key'].decode('utf-8')\n",
    "    for reviewer in reviewers_data\n",
    "    if not reviewer[b'is_publication']\n",
    "))\n",
    "reviewers_index = {key: i for i, key in enumerate(reviewers)}"
   ]
  },
  {
   "cell_type": "code",
   "execution_count": 114,
   "metadata": {},
   "outputs": [],
   "source": [
    "swarmer_index = reviewers_index['swarmer']"
   ]
  },
  {
   "cell_type": "code",
   "execution_count": 115,
   "metadata": {},
   "outputs": [],
   "source": [
    "films = sorted(set(review[b'film'].decode('utf-8') for review in reviews_data))\n",
    "films_index = {key: i for i, key in enumerate(films)}"
   ]
  },
  {
   "cell_type": "code",
   "execution_count": 116,
   "metadata": {},
   "outputs": [],
   "source": [
    "matrix = np.empty((len(films), len(reviewers)))\n",
    "matrix[:] = np.nan"
   ]
  },
  {
   "cell_type": "code",
   "execution_count": 117,
   "metadata": {},
   "outputs": [],
   "source": [
    "vals, counts = numpy.unique(matrix, return_counts=True, axis=None)\n",
    "#sorted(zip(vals, counts), reverse=True)[:40]"
   ]
  },
  {
   "cell_type": "code",
   "execution_count": 118,
   "metadata": {},
   "outputs": [],
   "source": [
    "for review in reviews_data:\n",
    "    reviewer_key = review[b'reviewer'].decode('utf-8')\n",
    "    if reviewer_key not in reviewers_index:\n",
    "        continue\n",
    "    \n",
    "    film_row = films_index[review[b'film'].decode('utf-8')]\n",
    "    reviewer_col = reviewers_index[reviewer_key]\n",
    "    matrix[film_row, reviewer_col] = float(review[b'score'].decode('utf-8'))"
   ]
  },
  {
   "cell_type": "code",
   "execution_count": 119,
   "metadata": {},
   "outputs": [],
   "source": [
    "matrix_df = pd.DataFrame(matrix)"
   ]
  },
  {
   "cell_type": "markdown",
   "metadata": {},
   "source": [
    "# Similar reviewers"
   ]
  },
  {
   "cell_type": "code",
   "execution_count": 145,
   "metadata": {},
   "outputs": [],
   "source": [
    "reviewer_correlation_matrix = matrix_df.corr(min_periods=5)"
   ]
  },
  {
   "cell_type": "code",
   "execution_count": 146,
   "metadata": {},
   "outputs": [
    {
     "data": {
      "text/plain": [
       "784    1.000000\n",
       "577    0.863433\n",
       "381    0.836798\n",
       "183    0.828850\n",
       "469    0.738549\n",
       "234    0.672206\n",
       "795    0.661896\n",
       "576    0.646781\n",
       "363    0.641873\n",
       "679    0.636128\n",
       "Name: 784, dtype: float64"
      ]
     },
     "execution_count": 146,
     "metadata": {},
     "output_type": "execute_result"
    }
   ],
   "source": [
    "reviewer_correlation_matrix[swarmer_index].nlargest(10)"
   ]
  },
  {
   "cell_type": "code",
   "execution_count": 138,
   "metadata": {},
   "outputs": [],
   "source": [
    "def common_films(rid1, rid2):\n",
    "    col1 = matrix[:, rid1]\n",
    "    col2 = matrix[:, rid2]\n",
    "    for i, (score1, score2) in enumerate(zip(col1, col2)):\n",
    "        if np.isnan(score1) or np.isnan(score2):\n",
    "            continue\n",
    "        \n",
    "        print(f'{films[i]}: {reviewers[rid1]}={score1}, {reviewers[rid2]}={score2}')"
   ]
  },
  {
   "cell_type": "code",
   "execution_count": 149,
   "metadata": {},
   "outputs": [
    {
     "data": {
      "text/plain": [
       "('mike-dangelo', 'john-bleasdale', 'dave-calhoun')"
      ]
     },
     "execution_count": 149,
     "metadata": {},
     "output_type": "execute_result"
    }
   ],
   "source": [
    "reviewers[577], reviewers[381], reviewers[183]"
   ]
  },
  {
   "cell_type": "code",
   "execution_count": 155,
   "metadata": {},
   "outputs": [
    {
     "name": "stdout",
     "output_type": "stream",
     "text": [
      "batman-begins: swarmer=80.0, mike-clark=63.0\n",
      "forrest-gump: swarmer=90.0, mike-clark=88.0\n",
      "kiss-kiss-bang-bang: swarmer=80.0, mike-clark=63.0\n",
      "pulp-fiction: swarmer=90.0, mike-clark=100.0\n",
      "the-matrix: swarmer=90.0, mike-clark=63.0\n"
     ]
    }
   ],
   "source": [
    "common_films(784, 576)"
   ]
  },
  {
   "cell_type": "markdown",
   "metadata": {},
   "source": [
    "# Similar films"
   ]
  },
  {
   "cell_type": "code",
   "execution_count": 156,
   "metadata": {},
   "outputs": [],
   "source": [
    "matrix_df_t = matrix_df.transpose()"
   ]
  },
  {
   "cell_type": "code",
   "execution_count": 236,
   "metadata": {},
   "outputs": [],
   "source": [
    "film_correlation_matrix = matrix_df_t.corr(min_periods=10)"
   ]
  },
  {
   "cell_type": "code",
   "execution_count": 173,
   "metadata": {},
   "outputs": [],
   "source": [
    "stacked = film_correlation_matrix.stack()"
   ]
  },
  {
   "cell_type": "code",
   "execution_count": 182,
   "metadata": {},
   "outputs": [
    {
     "data": {
      "text/plain": [
       "4680   7697     0.884318\n",
       "7697   4680     0.884318\n",
       "7994   7995     0.871668\n",
       "7995   7994     0.871668\n",
       "7083   13930    0.845615\n",
       "13930  7083     0.845615\n",
       "10950  13299    0.830082\n",
       "13299  10950    0.830082\n",
       "146    7875     0.826628\n",
       "7875   146      0.826628\n",
       "4639   7083     0.826379\n",
       "7083   4639     0.826379\n",
       "4947   6154     0.818191\n",
       "6154   4947     0.818191\n",
       "1808   10103    0.809869\n",
       "10103  1808     0.809869\n",
       "5729   6125     0.804650\n",
       "6125   5729     0.804650\n",
       "1786   13234    0.803747\n",
       "13234  1786     0.803747\n",
       "dtype: float64"
      ]
     },
     "execution_count": 182,
     "metadata": {},
     "output_type": "execute_result"
    }
   ],
   "source": [
    "stacked[stacked != 1.0].nlargest(20)"
   ]
  },
  {
   "cell_type": "code",
   "execution_count": 184,
   "metadata": {},
   "outputs": [
    {
     "data": {
      "text/plain": [
       "('kill-bill-vol-2', 'iron-man')"
      ]
     },
     "execution_count": 184,
     "metadata": {},
     "output_type": "execute_result"
    }
   ],
   "source": [
    "films[6125], films[5729]"
   ]
  },
  {
   "cell_type": "code",
   "execution_count": 185,
   "metadata": {},
   "outputs": [
    {
     "data": {
      "text/plain": [
       "6581   13726   -0.762448\n",
       "13726  6581    -0.762448\n",
       "4697   11147   -0.762395\n",
       "11147  4697    -0.762395\n",
       "8123   12173   -0.728714\n",
       "12173  8123    -0.728714\n",
       "5837   10795   -0.720123\n",
       "10795  5837    -0.720123\n",
       "1950   10696   -0.695962\n",
       "10696  1950    -0.695962\n",
       "1808   5937    -0.670114\n",
       "5937   1808    -0.670114\n",
       "4789   9735    -0.663293\n",
       "9735   4789    -0.663293\n",
       "1159   5625    -0.663236\n",
       "5625   1159    -0.663236\n",
       "3727   5615    -0.642116\n",
       "5615   3727    -0.642116\n",
       "7186   11135   -0.639671\n",
       "11135  7186    -0.639671\n",
       "dtype: float64"
      ]
     },
     "execution_count": 185,
     "metadata": {},
     "output_type": "execute_result"
    }
   ],
   "source": [
    "stacked[stacked != 1.0].nsmallest(20)"
   ]
  },
  {
   "cell_type": "code",
   "execution_count": 188,
   "metadata": {},
   "outputs": [
    {
     "data": {
      "text/plain": [
       "('one-day-2011', 'the-master')"
      ]
     },
     "execution_count": 188,
     "metadata": {},
     "output_type": "execute_result"
    }
   ],
   "source": [
    "films[8123], films[12173]"
   ]
  },
  {
   "cell_type": "code",
   "execution_count": 192,
   "metadata": {},
   "outputs": [],
   "source": [
    "my_film_ids = [films_index[key] for key in my_reviews]\n",
    "my_matrix_df_t = matrix_df.iloc[my_film_ids].transpose()"
   ]
  },
  {
   "cell_type": "code",
   "execution_count": 218,
   "metadata": {},
   "outputs": [],
   "source": [
    "my_film_correlation_matrix = my_matrix_df_t.corr(min_periods=10)\n",
    "stacked = my_film_correlation_matrix.stack()"
   ]
  },
  {
   "cell_type": "code",
   "execution_count": 228,
   "metadata": {},
   "outputs": [
    {
     "data": {
      "text/plain": [
       "2519   3727    -0.887611\n",
       "3727   2519    -0.887611\n",
       "5213   1715    -0.778313\n",
       "1715   5213    -0.778313\n",
       "5583   7442    -0.701804\n",
       "7442   5583    -0.701804\n",
       "11239  5213    -0.646077\n",
       "5213   11239   -0.646077\n",
       "3498   8539    -0.614680\n",
       "8539   3498    -0.614680\n",
       "11681  3799    -0.606280\n",
       "3799   11681   -0.606280\n",
       "       5633    -0.596785\n",
       "5633   3799    -0.596785\n",
       "11189  1715    -0.570400\n",
       "1715   11189   -0.570400\n",
       "6192   3727    -0.563624\n",
       "3727   6192    -0.563624\n",
       "12908  14248   -0.554930\n",
       "14248  12908   -0.554930\n",
       "dtype: float64"
      ]
     },
     "execution_count": 228,
     "metadata": {},
     "output_type": "execute_result"
    }
   ],
   "source": [
    "stacked[stacked != 1.0].nsmallest(20)"
   ]
  },
  {
   "cell_type": "code",
   "execution_count": 234,
   "metadata": {},
   "outputs": [
    {
     "data": {
      "text/plain": [
       "('in-the-loop', 'the-theory-of-everything')"
      ]
     },
     "execution_count": 234,
     "metadata": {},
     "output_type": "execute_result"
    }
   ],
   "source": [
    "films[5583], films[12908]"
   ]
  },
  {
   "cell_type": "code",
   "execution_count": 237,
   "metadata": {},
   "outputs": [
    {
     "data": {
      "text/plain": [
       "5583    1.000000\n",
       "7134    0.857111\n",
       "8310    0.856141\n",
       "7875    0.851287\n",
       "2438    0.837438\n",
       "Name: 5583, dtype: float64"
      ]
     },
     "execution_count": 237,
     "metadata": {},
     "output_type": "execute_result"
    }
   ],
   "source": [
    "film_correlation_matrix[5583].dropna().nlargest()"
   ]
  },
  {
   "cell_type": "code",
   "execution_count": 238,
   "metadata": {},
   "outputs": [
    {
     "data": {
      "text/plain": [
       "'me-and-orson-welles'"
      ]
     },
     "execution_count": 238,
     "metadata": {},
     "output_type": "execute_result"
    }
   ],
   "source": [
    "films[7134]"
   ]
  },
  {
   "cell_type": "code",
   "execution_count": null,
   "metadata": {},
   "outputs": [],
   "source": []
  }
 ],
 "metadata": {
  "kernelspec": {
   "display_name": "Python 3",
   "language": "python",
   "name": "python3"
  },
  "language_info": {
   "codemirror_mode": {
    "name": "ipython",
    "version": 3
   },
   "file_extension": ".py",
   "mimetype": "text/x-python",
   "name": "python",
   "nbconvert_exporter": "python",
   "pygments_lexer": "ipython3",
   "version": "3.6.3"
  }
 },
 "nbformat": 4,
 "nbformat_minor": 1
}
