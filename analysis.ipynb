{
 "cells": [
  {
   "cell_type": "markdown",
   "metadata": {},
   "source": [
    "# Preparation"
   ]
  },
  {
   "cell_type": "code",
   "execution_count": 2,
   "metadata": {},
   "outputs": [],
   "source": [
    "import pandas as pd\n",
    "import numpy as np\n",
    "import msgpack"
   ]
  },
  {
   "cell_type": "code",
   "execution_count": 3,
   "metadata": {},
   "outputs": [],
   "source": [
    "with open('reviewers.msgpack', 'rb') as reviewers_file:\n",
    "    reviewers_data = msgpack.load(reviewers_file)\n",
    "    \n",
    "with open('reviews.msgpack', 'rb') as reviews_file:\n",
    "    reviews_data = msgpack.load(reviews_file)"
   ]
  },
  {
   "cell_type": "code",
   "execution_count": 4,
   "metadata": {},
   "outputs": [],
   "source": [
    "reviewers_data.append({\n",
    "    b'is_publication': False,\n",
    "    b'key': b'swarmer',\n",
    "    b'name': b'Anton Barkovsky',\n",
    "    b'publication_link': None,\n",
    "    b'publication_title': None,\n",
    "})\n",
    "\n",
    "my_reviews = {\n",
    "    'blade-runner-2049': 100,\n",
    "    'baby-driver': 85,\n",
    "    'dunkirk': 80,\n",
    "    'loveless-2017': 95,\n",
    "    'kiss-kiss-bang-bang': 80,\n",
    "    'zero-dark-thirty': 85,\n",
    "    'sicario': 100,\n",
    "    'rogue-one': 90,\n",
    "    'the-prestige': 90,\n",
    "    'the-martian': 90,\n",
    "    'the-big-lebowski': 90,\n",
    "    'gran-torino': 90,\n",
    "    'citizenfour': 90,\n",
    "    'snowden': 80,\n",
    "    'arrival': 80,\n",
    "    'mulholland-dr': 80,\n",
    "    'the-danish-girl': 70,\n",
    "    'the-theory-of-everything': 80,\n",
    "    'the-big-short': 90,\n",
    "    'edge-of-tomorrow': 80,\n",
    "    'carol': 90,\n",
    "    'drive': 85,\n",
    "    'warcraft': 80,\n",
    "    'a-clockwork-orange': 80,\n",
    "    'the-hateful-eight': 80,\n",
    "    'apocalypse-now': 90,\n",
    "    'the-descendants': 80,\n",
    "    'the-social-network': 85,\n",
    "    'star-wars-episode-vii---the-force-awakens': 80,\n",
    "    'the-best-offer': 70,\n",
    "    'in-the-loop': 80,\n",
    "    'fight-club': 80,\n",
    "    'batman-begins': 80,\n",
    "    'the-fault-in-our-stars': 80,\n",
    "    'the-spectacular-now': 70,\n",
    "    'children-of-men': 90,\n",
    "    'ex-machina': 90,\n",
    "    'the-kings-speech': 90,\n",
    "    'the-imitation-game': 80,\n",
    "    'what-we-do-in-the-shadows': 80,\n",
    "    'up-in-the-air': 70,\n",
    "    'argo': 90,\n",
    "    'interstellar': 85,\n",
    "    'guardians-of-the-galaxy': 70,\n",
    "    'inglourious-basterds': 80,\n",
    "    'the-avengers-2012': 70,\n",
    "    'serenity': 80,\n",
    "    '5050': 70,\n",
    "    'hot-fuzz': 90,\n",
    "    'her': 90,\n",
    "    'moon': 90,\n",
    "    'about-time': 80,\n",
    "    'the-hurt-locker': 100,\n",
    "    'silver-linings-playbook': 80,\n",
    "    'the-hunger-games-catching-fire': 80,\n",
    "    'american-hustle': 70,\n",
    "    'the-wolf-of-wall-street': 80,\n",
    "    'dr-strangelove-or-how-i-learned-to-stop-worrying-and-love-the-bomb': 100,\n",
    "    'blade-runner': 85,\n",
    "    'the-perks-of-being-a-wallflower': 80,\n",
    "    'the-lives-of-others': 100,\n",
    "    'its-a-wonderful-life': 90,\n",
    "    'the-dark-knight': 90,\n",
    "    'pulp-fiction': 90,\n",
    "    'star-wars-episode-iv---a-new-hope': 80,\n",
    "    'the-godfather': 90,\n",
    "    'inception': 100,\n",
    "    'forrest-gump': 90,\n",
    "    'star-wars-episode-vi---return-of-the-jedi': 80,\n",
    "    'the-lord-of-the-rings-the-fellowship-of-the-ring': 70,\n",
    "    'pirates-of-the-caribbean-the-curse-of-the-black-pearl': 80,\n",
    "    'the-matrix': 90,\n",
    "    'star-wars-episode-v---the-empire-strikes-back': 80,\n",
    "    'gladiator': 100,\n",
    "    'the-godfather-part-ii': 90,\n",
    "    'black-swan': 80,\n",
    "    'the-lord-of-the-rings-the-return-of-the-king': 70,\n",
    "    'eternal-sunshine-of-the-spotless-mind': 80,\n",
    "    'the-good-the-bad-and-the-ugly-re-release': 90,\n",
    "    'the-lord-of-the-rings-the-two-towers': 70,\n",
    "    'amelie': 90,\n",
    "}\n",
    "reviews_data.extend([\n",
    "    {\n",
    "        b'date': None,\n",
    "        b'film': key.encode('utf-8'),\n",
    "        b'movie_link': None,\n",
    "        b'movie_title': None,\n",
    "        b'pub_title': None,\n",
    "        b'review_link': None,\n",
    "        b'reviewer': b'swarmer',\n",
    "        b'score': str(score).encode('utf-8'),\n",
    "    }\n",
    "    for key, score in my_reviews.items()\n",
    "])"
   ]
  },
  {
   "cell_type": "code",
   "execution_count": 5,
   "metadata": {},
   "outputs": [],
   "source": [
    "reviewers = sorted(set(\n",
    "    reviewer[b'key'].decode('utf-8')\n",
    "    for reviewer in reviewers_data\n",
    "    if not reviewer[b'is_publication']\n",
    "))\n",
    "reviewers_index = {key: i for i, key in enumerate(reviewers)}"
   ]
  },
  {
   "cell_type": "code",
   "execution_count": 6,
   "metadata": {},
   "outputs": [],
   "source": [
    "swarmer_index = reviewers_index['swarmer']"
   ]
  },
  {
   "cell_type": "code",
   "execution_count": 7,
   "metadata": {},
   "outputs": [],
   "source": [
    "films = sorted(set(review[b'film'].decode('utf-8') for review in reviews_data))\n",
    "films_index = {key: i for i, key in enumerate(films)}"
   ]
  },
  {
   "cell_type": "code",
   "execution_count": 8,
   "metadata": {},
   "outputs": [],
   "source": [
    "matrix = np.empty((len(films), len(reviewers)))\n",
    "matrix[:] = np.nan"
   ]
  },
  {
   "cell_type": "code",
   "execution_count": 9,
   "metadata": {},
   "outputs": [],
   "source": [
    "vals, counts = numpy.unique(matrix, return_counts=True, axis=None)"
   ]
  },
  {
   "cell_type": "code",
   "execution_count": 10,
   "metadata": {},
   "outputs": [],
   "source": [
    "for review in reviews_data:\n",
    "    reviewer_key = review[b'reviewer'].decode('utf-8')\n",
    "    if reviewer_key not in reviewers_index:\n",
    "        continue\n",
    "    \n",
    "    film_row = films_index[review[b'film'].decode('utf-8')]\n",
    "    reviewer_col = reviewers_index[reviewer_key]\n",
    "    matrix[film_row, reviewer_col] = float(review[b'score'].decode('utf-8'))"
   ]
  },
  {
   "cell_type": "code",
   "execution_count": 11,
   "metadata": {},
   "outputs": [],
   "source": [
    "matrix_df = pd.DataFrame(matrix)"
   ]
  },
  {
   "cell_type": "markdown",
   "metadata": {},
   "source": [
    "# Similar reviewers"
   ]
  },
  {
   "cell_type": "code",
   "execution_count": 78,
   "metadata": {},
   "outputs": [],
   "source": [
    "reviewer_correlation_matrix = matrix_df.corr(min_periods=10)"
   ]
  },
  {
   "cell_type": "code",
   "execution_count": 79,
   "metadata": {
    "scrolled": true
   },
   "outputs": [
    {
     "data": {
      "text/plain": [
       "swarmer                 1.000000\n",
       "rick-groen              0.636128\n",
       "carrie-rickey           0.579271\n",
       "calvin-wilson           0.575007\n",
       "dan-jolin               0.555556\n",
       "justin-chang            0.434875\n",
       "elizabeth-weitzman      0.432855\n",
       "marjorie-baumgarten     0.408314\n",
       "kyle-smith              0.408282\n",
       "screen-international    0.406197\n",
       "Name: 784, dtype: float64"
      ]
     },
     "execution_count": 79,
     "metadata": {},
     "output_type": "execute_result"
    }
   ],
   "source": [
    "top_reviewer_corrs = reviewer_correlation_matrix[swarmer_index].nlargest(10)\n",
    "top_reviewer_corrs.index = top_reviewer_corrs.index.map(lambda i: reviewers[i])\n",
    "top_reviewer_corrs"
   ]
  },
  {
   "cell_type": "code",
   "execution_count": 80,
   "metadata": {},
   "outputs": [],
   "source": [
    "def common_films(rkey1, rkey2):\n",
    "    rid1, rid2 = reviewers_index[rkey1], reviewers_index[rkey2]\n",
    "    \n",
    "    col1 = matrix[:, rid1]\n",
    "    col2 = matrix[:, rid2]\n",
    "    for i, (score1, score2) in enumerate(zip(col1, col2)):\n",
    "        if np.isnan(score1) or np.isnan(score2):\n",
    "            continue\n",
    "        \n",
    "        print(f'{films[i]}: {reviewers[rid1]}={score1}, {reviewers[rid2]}={score2}')"
   ]
  },
  {
   "cell_type": "code",
   "execution_count": 82,
   "metadata": {},
   "outputs": [
    {
     "name": "stdout",
     "output_type": "stream",
     "text": [
      "batman-begins: swarmer=80.0, carrie-rickey=63.0\n",
      "drive: swarmer=85.0, carrie-rickey=75.0\n",
      "gran-torino: swarmer=90.0, carrie-rickey=75.0\n",
      "in-the-loop: swarmer=80.0, carrie-rickey=75.0\n",
      "pirates-of-the-caribbean-the-curse-of-the-black-pearl: swarmer=80.0, carrie-rickey=75.0\n",
      "the-dark-knight: swarmer=90.0, carrie-rickey=75.0\n",
      "the-kings-speech: swarmer=90.0, carrie-rickey=100.0\n",
      "the-lives-of-others: swarmer=100.0, carrie-rickey=100.0\n",
      "the-lord-of-the-rings-the-two-towers: swarmer=70.0, carrie-rickey=75.0\n",
      "the-perks-of-being-a-wallflower: swarmer=80.0, carrie-rickey=75.0\n",
      "the-social-network: swarmer=85.0, carrie-rickey=100.0\n"
     ]
    }
   ],
   "source": [
    "common_films('swarmer', 'carrie-rickey')"
   ]
  },
  {
   "cell_type": "markdown",
   "metadata": {},
   "source": [
    "# Similar films"
   ]
  },
  {
   "cell_type": "code",
   "execution_count": 18,
   "metadata": {},
   "outputs": [],
   "source": [
    "matrix_df_t = matrix_df.transpose()"
   ]
  },
  {
   "cell_type": "code",
   "execution_count": 72,
   "metadata": {},
   "outputs": [],
   "source": [
    "film_correlation_matrix = matrix_df_t.corr(min_periods=20)"
   ]
  },
  {
   "cell_type": "code",
   "execution_count": 73,
   "metadata": {},
   "outputs": [],
   "source": [
    "stacked = film_correlation_matrix.stack()\n",
    "stacked = stacked[stacked.index]"
   ]
  },
  {
   "cell_type": "code",
   "execution_count": 74,
   "metadata": {},
   "outputs": [],
   "source": [
    "stacked = stacked[stacked.index.get_level_values(0) < stacked.index.get_level_values(1)]"
   ]
  },
  {
   "cell_type": "code",
   "execution_count": 75,
   "metadata": {},
   "outputs": [],
   "source": [
    "top_film_corrs = stacked[stacked != 1.0].nlargest(20)"
   ]
  },
  {
   "cell_type": "code",
   "execution_count": 76,
   "metadata": {},
   "outputs": [
    {
     "data": {
      "text/plain": [
       "gran-torino                                     mystic-river                                      0.884318\n",
       "nymphomaniac-volume-i                           nymphomaniac-volume-two                           0.871668\n",
       "master-and-commander-the-far-side-of-the-world  vera-drake                                        0.845615\n",
       "the-bourne-legacy                               this-means-war                                    0.830082\n",
       "4-months-3-weeks-and-2-days                     no-country-for-old-men                            0.826628\n",
       "good-night-and-good-luck                        master-and-commander-the-far-side-of-the-world    0.826379\n",
       "haywire                                         killing-them-softly                               0.818191\n",
       "blue-jasmine                                    spring-breakers                                   0.809869\n",
       "iron-man                                        kill-bill-vol-2                                   0.804650\n",
       "blood-work                                      there-will-be-blood                               0.803747\n",
       "jason-bourne                                    rogue-one-a-star-wars-story                       0.798095\n",
       "million-dollar-baby                             oceans-twelve                                     0.792797\n",
       "deadpool                                        mission-impossible-5                              0.789071\n",
       "take-shelter                                    the-bourne-legacy                                 0.787408\n",
       "money-monster                                   the-magnificent-seven-2016                        0.787370\n",
       "silence                                         the-avengers-age-of-ultron                        0.782945\n",
       "lost-in-la-mancha                               the-quiet-american                                0.775170\n",
       "20th-century-women                              loving                                            0.773655\n",
       "the-nice-guys                                   zero-dark-thirty                                  0.770009\n",
       "rock-of-ages                                    true-grit                                         0.769684\n",
       "dtype: float64"
      ]
     },
     "execution_count": 76,
     "metadata": {},
     "output_type": "execute_result"
    }
   ],
   "source": [
    "top_film_corrs.index = top_film_corrs.index.map(lambda i: (films[i[0]], films[i[1]]))\n",
    "top_film_corrs"
   ]
  },
  {
   "cell_type": "markdown",
   "metadata": {},
   "source": [
    "# Dissimilar films"
   ]
  },
  {
   "cell_type": "code",
   "execution_count": 77,
   "metadata": {},
   "outputs": [
    {
     "data": {
      "text/plain": [
       "lincoln                                unbroken                                             -0.762448\n",
       "gravity                                the-counselor                                        -0.762395\n",
       "one-day-2011                           the-master                                           -0.728714\n",
       "jane-eyre                              the-avengers-2012                                    -0.720123\n",
       "brave                                  the-adjustment-bureau                                -0.695962\n",
       "blue-jasmine                           john-carter-of-mars                                  -0.670114\n",
       "hacksaw-ridge                          silence                                              -0.663293\n",
       "atonement                              infamous                                             -0.663236\n",
       "eternal-sunshine-of-the-spotless-mind  indiana-jones-and-the-kingdom-of-the-crystal-skull   -0.642116\n",
       "melancholia                            the-conspirator                                      -0.639671\n",
       "american-sniper                        godzilla-2014                                        -0.639554\n",
       "sylvia                                 the-quiet-american                                   -0.634588\n",
       "australia                              the-amazing-spider-man                               -0.632998\n",
       "jason-bourne                           knight-of-cups                                       -0.628361\n",
       "cloud-atlas                            inside-out-2015                                      -0.624812\n",
       "labor-day-2013                         lincoln                                              -0.613648\n",
       "the-avengers-age-of-ultron             white-house-down                                     -0.609375\n",
       "only-god-forgives                      spotlight                                            -0.606936\n",
       "cloud-atlas                            untitled-rise-of-the-planet-of-the-apes-sequel       -0.605009\n",
       "                                       her                                                  -0.604500\n",
       "dtype: float64"
      ]
     },
     "execution_count": 77,
     "metadata": {},
     "output_type": "execute_result"
    }
   ],
   "source": [
    "bottom_film_corrs = stacked[stacked != 1.0].nsmallest(20)\n",
    "bottom_film_corrs.index = bottom_film_corrs.index.map(lambda i: (films[i[0]], films[i[1]]))\n",
    "bottom_film_corrs"
   ]
  }
 ],
 "metadata": {
  "kernelspec": {
   "display_name": "Python 3",
   "language": "python",
   "name": "python3"
  },
  "language_info": {
   "codemirror_mode": {
    "name": "ipython",
    "version": 3
   },
   "file_extension": ".py",
   "mimetype": "text/x-python",
   "name": "python",
   "nbconvert_exporter": "python",
   "pygments_lexer": "ipython3",
   "version": "3.6.3"
  }
 },
 "nbformat": 4,
 "nbformat_minor": 1
}
